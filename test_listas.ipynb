{
 "cells": [
  {
   "cell_type": "code",
   "execution_count": 1,
   "id": "initial_id",
   "metadata": {
    "collapsed": true,
    "ExecuteTime": {
     "end_time": "2024-03-19T23:52:41.317721Z",
     "start_time": "2024-03-19T23:52:41.312326Z"
    }
   },
   "outputs": [],
   "source": [
    "lista = ['Alicia', 'Bob', 'Carlos', 'David']"
   ]
  },
  {
   "cell_type": "code",
   "outputs": [
    {
     "ename": "IndexError",
     "evalue": "pop index out of range",
     "output_type": "error",
     "traceback": [
      "\u001B[1;31m---------------------------------------------------------------------------\u001B[0m",
      "\u001B[1;31mIndexError\u001B[0m                                Traceback (most recent call last)",
      "Cell \u001B[1;32mIn[2], line 4\u001B[0m\n\u001B[0;32m      2\u001B[0m \u001B[38;5;28;01mwhile\u001B[39;00m \u001B[38;5;28mlen\u001B[39m(lista) \u001B[38;5;241m>\u001B[39m \u001B[38;5;241m0\u001B[39m:\n\u001B[0;32m      3\u001B[0m     ultimo_cliente \u001B[38;5;241m=\u001B[39m \u001B[38;5;28mlen\u001B[39m(lista)\n\u001B[1;32m----> 4\u001B[0m     cliente \u001B[38;5;241m=\u001B[39m \u001B[43mlista\u001B[49m\u001B[38;5;241;43m.\u001B[39;49m\u001B[43mpop\u001B[49m\u001B[43m(\u001B[49m\u001B[43multimo_cliente\u001B[49m\u001B[43m)\u001B[49m\n\u001B[0;32m      5\u001B[0m     lista2\u001B[38;5;241m.\u001B[39mappend(cliente)\n\u001B[0;32m      7\u001B[0m \u001B[38;5;28;01mfor\u001B[39;00m cliente \u001B[38;5;129;01min\u001B[39;00m lista2:\n",
      "\u001B[1;31mIndexError\u001B[0m: pop index out of range"
     ]
    }
   ],
   "source": [
    "lista2 = []\n",
    "while len(lista) > 0:\n",
    "    ultimo_cliente = len(lista)\n",
    "    cliente = lista.pop(ultimo_cliente)\n",
    "    lista2.append(cliente)\n",
    "\n",
    "for cliente in lista2:\n",
    "    print(cliente)"
   ],
   "metadata": {
    "collapsed": false,
    "ExecuteTime": {
     "end_time": "2024-03-19T23:53:06.210139Z",
     "start_time": "2024-03-19T23:53:05.818778Z"
    }
   },
   "id": "784ae7c776d880a8",
   "execution_count": 2
  },
  {
   "cell_type": "code",
   "outputs": [
    {
     "name": "stdout",
     "output_type": "stream",
     "text": [
      "David\n",
      "Carlos\n",
      "Bob\n",
      "Alicia\n"
     ]
    }
   ],
   "source": [
    "while len(lista) > 0:\n",
    "    ultimo_cliente = len(lista) - 1\n",
    "    cliente = lista.pop(ultimo_cliente)\n",
    "    print(cliente)"
   ],
   "metadata": {
    "collapsed": false,
    "ExecuteTime": {
     "end_time": "2024-03-19T23:53:13.548846Z",
     "start_time": "2024-03-19T23:53:13.543004Z"
    }
   },
   "id": "392cea2d140a8141",
   "execution_count": 3
  }
 ],
 "metadata": {
  "kernelspec": {
   "display_name": "Python 3",
   "language": "python",
   "name": "python3"
  },
  "language_info": {
   "codemirror_mode": {
    "name": "ipython",
    "version": 2
   },
   "file_extension": ".py",
   "mimetype": "text/x-python",
   "name": "python",
   "nbconvert_exporter": "python",
   "pygments_lexer": "ipython2",
   "version": "2.7.6"
  }
 },
 "nbformat": 4,
 "nbformat_minor": 5
}

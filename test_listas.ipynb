{
 "cells": [
  {
   "cell_type": "code",
   "execution_count": 1,
   "metadata": {},
   "outputs": [],
   "source": [
    "lista = ['Alicia', 'Bob', 'Carlos', 'David']"
   ]
  },
  {
   "cell_type": "code",
   "execution_count": 2,
   "metadata": {},
   "outputs": [
    {
     "ename": "IndexError",
     "evalue": "list index out of range",
     "output_type": "error",
     "traceback": [
      "\u001b[1;31m---------------------------------------------------------------------------\u001b[0m",
      "\u001b[1;31mIndexError\u001b[0m                                Traceback (most recent call last)",
      "Cell \u001b[1;32mIn[2], line 3\u001b[0m\n\u001b[0;32m      1\u001b[0m \u001b[38;5;28;01mfor\u001b[39;00m i \u001b[38;5;129;01min\u001b[39;00m \u001b[38;5;28mrange\u001b[39m( \u001b[38;5;28mlen\u001b[39m(lista) ):\n\u001b[0;32m      2\u001b[0m     ultimo_cliente \u001b[38;5;241m=\u001b[39m \u001b[38;5;28mlen\u001b[39m(lista) \u001b[38;5;241m-\u001b[39m i\n\u001b[1;32m----> 3\u001b[0m     cliente \u001b[38;5;241m=\u001b[39m \u001b[43mlista\u001b[49m\u001b[43m[\u001b[49m\u001b[43m \u001b[49m\u001b[43multimo_cliente\u001b[49m\u001b[43m \u001b[49m\u001b[43m]\u001b[49m\n\u001b[0;32m      4\u001b[0m     \u001b[38;5;28mprint\u001b[39m(cliente)\n",
      "\u001b[1;31mIndexError\u001b[0m: list index out of range"
     ]
    }
   ],
   "source": [
    "for i in range( len(lista) ):\n",
    "    ultimo_cliente = len(lista) - i\n",
    "    cliente = lista[ ultimo_cliente ]\n",
    "    print(cliente)"
   ]
  },
  {
   "cell_type": "code",
   "execution_count": 3,
   "metadata": {},
   "outputs": [
    {
     "ename": "IndexError",
     "evalue": "pop index out of range",
     "output_type": "error",
     "traceback": [
      "\u001b[1;31m---------------------------------------------------------------------------\u001b[0m",
      "\u001b[1;31mIndexError\u001b[0m                                Traceback (most recent call last)",
      "Cell \u001b[1;32mIn[3], line 4\u001b[0m\n\u001b[0;32m      2\u001b[0m \u001b[38;5;28;01mwhile\u001b[39;00m \u001b[38;5;28mlen\u001b[39m(lista) \u001b[38;5;241m>\u001b[39m \u001b[38;5;241m0\u001b[39m:\n\u001b[0;32m      3\u001b[0m     ultimo_cliente \u001b[38;5;241m=\u001b[39m \u001b[38;5;28mlen\u001b[39m(lista)\n\u001b[1;32m----> 4\u001b[0m     cliente \u001b[38;5;241m=\u001b[39m \u001b[43mlista\u001b[49m\u001b[38;5;241;43m.\u001b[39;49m\u001b[43mpop\u001b[49m\u001b[43m(\u001b[49m\u001b[43multimo_cliente\u001b[49m\u001b[43m)\u001b[49m\n\u001b[0;32m      5\u001b[0m     lista2\u001b[38;5;241m.\u001b[39mappend(cliente)\n\u001b[0;32m      7\u001b[0m \u001b[38;5;28;01mfor\u001b[39;00m cliente \u001b[38;5;129;01min\u001b[39;00m lista2:\n",
      "\u001b[1;31mIndexError\u001b[0m: pop index out of range"
     ]
    }
   ],
   "source": [
    "lista2 = []\n",
    "while len(lista) > 0:\n",
    "    ultimo_cliente = len(lista)\n",
    "    cliente = lista.pop(ultimo_cliente)\n",
    "    lista2.append(cliente)\n",
    "\n",
    "for cliente in lista2:\n",
    "    print(cliente)"
   ]
  },
  {
   "cell_type": "code",
   "execution_count": 4,
   "metadata": {},
   "outputs": [
    {
     "name": "stdout",
     "output_type": "stream",
     "text": [
      "David\n",
      "Carlos\n",
      "Bob\n",
      "Alicia\n"
     ]
    }
   ],
   "source": [
    "while len(lista) > 0:\n",
    "    ultimo_cliente = len(lista) - 1\n",
    "    cliente = lista.pop(ultimo_cliente)\n",
    "    print(cliente)"
   ]
  }
 ],
 "metadata": {
  "kernelspec": {
   "display_name": "Python 3",
   "language": "python",
   "name": "python3"
  },
  "language_info": {
   "codemirror_mode": {
    "name": "ipython",
    "version": 3
   },
   "file_extension": ".py",
   "mimetype": "text/x-python",
   "name": "python",
   "nbconvert_exporter": "python",
   "pygments_lexer": "ipython3",
   "version": "3.9.12"
  }
 },
 "nbformat": 4,
 "nbformat_minor": 2
}

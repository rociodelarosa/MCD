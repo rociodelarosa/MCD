{
 "cells": [
  {
   "cell_type": "markdown",
   "metadata": {},
   "source": [
    "# Ejercicios\n",
    "### Fuente:\n",
    "https://aprendepython.es/core/datastructures/lists/"
   ]
  },
  {
   "cell_type": "code",
   "execution_count": 3,
   "metadata": {},
   "outputs": [],
   "source": [
    "# Creando listas\n",
    "empty_list = []\n",
    "languages = ['Python', 'Ruby', 'Javascript']\n",
    "fibonacci = [0, 1, 1, 2, 3, 5, 8, 13]\n",
    "data = ['Tenerife', {'cielo': 'limpio', 'temp': 24}, 3718, (28.2933947, -16.5226597)]"
   ]
  },
  {
   "cell_type": "code",
   "execution_count": 4,
   "metadata": {},
   "outputs": [
    {
     "data": {
      "text/plain": [
       "['P', 'y', 't', 'h', 'o', 'n']"
      ]
     },
     "execution_count": 4,
     "metadata": {},
     "output_type": "execute_result"
    }
   ],
   "source": [
    "# conversión desde una cadena de texto\n",
    "list('Python')\n",
    "['P', 'y', 't', 'h', 'o', 'n']"
   ]
  },
  {
   "cell_type": "code",
   "execution_count": 5,
   "metadata": {},
   "outputs": [
    {
     "data": {
      "text/plain": [
       "[0, 1, 2, 3, 4, 5, 6, 7, 8, 9]"
      ]
     },
     "execution_count": 5,
     "metadata": {},
     "output_type": "execute_result"
    }
   ],
   "source": [
    "list(range(10))\n",
    "[0, 1, 2, 3, 4, 5, 6, 7, 8, 9]"
   ]
  },
  {
   "cell_type": "code",
   "execution_count": 6,
   "metadata": {},
   "outputs": [
    {
     "data": {
      "text/plain": [
       "[]"
      ]
     },
     "execution_count": 6,
     "metadata": {},
     "output_type": "execute_result"
    }
   ],
   "source": [
    "list()"
   ]
  },
  {
   "cell_type": "code",
   "execution_count": 8,
   "metadata": {},
   "outputs": [
    {
     "name": "stdout",
     "output_type": "stream",
     "text": [
      "Agua\n",
      "Aceite\n",
      "Aceite\n"
     ]
    }
   ],
   "source": [
    "shopping = ['Agua', 'Huevos', 'Aceite']\n",
    "print(shopping[0])\n",
    "print(shopping[2])\n",
    "print(shopping[-1])"
   ]
  },
  {
   "cell_type": "code",
   "execution_count": 9,
   "metadata": {},
   "outputs": [
    {
     "name": "stdout",
     "output_type": "stream",
     "text": [
      "['Agua', 'Huevos', 'Aceite']\n",
      "['Agua', 'Huevos', 'Aceite']\n",
      "['Aceite', 'Sal']\n",
      "['Limón', 'Sal', 'Aceite']\n",
      "['Limón', 'Sal', 'Aceite', 'Huevos', 'Agua']\n"
     ]
    }
   ],
   "source": [
    "# Trocear una lista\n",
    "shopping = ['Agua', 'Huevos', 'Aceite', 'Sal', 'Limón']\n",
    "print(shopping[0:3])\n",
    "print(shopping[:3])\n",
    "print(shopping[2:4])\n",
    "print(shopping[-1:-4:-1])\n",
    "\n",
    "# Equivale a invertir la lista\n",
    "print(shopping[::-1])"
   ]
  },
  {
   "cell_type": "code",
   "execution_count": 10,
   "metadata": {},
   "outputs": [
    {
     "data": {
      "text/plain": [
       "['Agua', 'Huevos', 'Aceite', 'Sal', 'Limón']"
      ]
     },
     "execution_count": 10,
     "metadata": {},
     "output_type": "execute_result"
    }
   ],
   "source": [
    "shopping"
   ]
  },
  {
   "cell_type": "code",
   "execution_count": 11,
   "metadata": {},
   "outputs": [
    {
     "data": {
      "text/plain": [
       "[]"
      ]
     },
     "execution_count": 11,
     "metadata": {},
     "output_type": "execute_result"
    }
   ],
   "source": [
    "shopping[10:]"
   ]
  },
  {
   "cell_type": "code",
   "execution_count": 12,
   "metadata": {},
   "outputs": [
    {
     "data": {
      "text/plain": [
       "['Agua', 'Huevos']"
      ]
     },
     "execution_count": 12,
     "metadata": {},
     "output_type": "execute_result"
    }
   ],
   "source": [
    "shopping[-100:2]"
   ]
  },
  {
   "cell_type": "code",
   "execution_count": 13,
   "metadata": {},
   "outputs": [
    {
     "data": {
      "text/plain": [
       "['Aceite', 'Sal', 'Limón']"
      ]
     },
     "execution_count": 13,
     "metadata": {},
     "output_type": "execute_result"
    }
   ],
   "source": [
    "shopping[2:100]"
   ]
  },
  {
   "cell_type": "markdown",
   "metadata": {},
   "source": [
    "Ninguna de las operaciones anteriores modifican la lista original, simplemente devuelven una lista nueva."
   ]
  },
  {
   "cell_type": "code",
   "execution_count": 15,
   "metadata": {},
   "outputs": [
    {
     "name": "stdout",
     "output_type": "stream",
     "text": [
      "['Agua', 'Huevos', 'Aceite', 'Sal', 'Limón']\n",
      "['Agua', 'Huevos', 'Aceite', 'Sal', 'Limón']\n",
      "['Agua', 'Huevos', 'Aceite', 'Sal', 'Limón']\n"
     ]
    }
   ],
   "source": [
    "# Invertir una lista\n",
    "# Opción 1\n",
    "print(shopping[::-1])\n",
    "\n",
    "# Opción 2\n",
    "print(list(reversed(shopping)))\n",
    "\n",
    "# Opción 3\n",
    "shopping.reverse()\n",
    "print(shopping) # modifica la lista original"
   ]
  },
  {
   "cell_type": "code",
   "execution_count": 16,
   "metadata": {},
   "outputs": [
    {
     "data": {
      "text/plain": [
       "['Agua', 'Huevos', 'Aceite', 'Atún']"
      ]
     },
     "execution_count": 16,
     "metadata": {},
     "output_type": "execute_result"
    }
   ],
   "source": [
    "# Añadir al final de la lista\n",
    "shopping = ['Agua', 'Huevos', 'Aceite']\n",
    "shopping.append('Atún')\n",
    "shopping"
   ]
  },
  {
   "cell_type": "code",
   "execution_count": 17,
   "metadata": {},
   "outputs": [
    {
     "data": {
      "text/plain": [
       "[0, 2, 4, 6, 8, 10, 12, 14, 16, 18]"
      ]
     },
     "execution_count": 17,
     "metadata": {},
     "output_type": "execute_result"
    }
   ],
   "source": [
    "# Creando desde vacío\n",
    "even_numbers = []\n",
    "\n",
    "for i in range(20):\n",
    "    if i % 2 == 0:\n",
    "        even_numbers.append(i)\n",
    "\n",
    "\n",
    "even_numbers"
   ]
  },
  {
   "cell_type": "code",
   "execution_count": 18,
   "metadata": {},
   "outputs": [
    {
     "data": {
      "text/plain": [
       "['Agua', 'Jamón', 'Huevos', 'Aceite']"
      ]
     },
     "execution_count": 18,
     "metadata": {},
     "output_type": "execute_result"
    }
   ],
   "source": [
    "# Añadir en cualquier posición de una lista\n",
    "shopping = ['Agua', 'Huevos', 'Aceite']\n",
    "shopping.insert(1, 'Jamón')\n",
    "\n",
    "shopping"
   ]
  },
  {
   "cell_type": "code",
   "execution_count": 19,
   "metadata": {},
   "outputs": [
    {
     "data": {
      "text/plain": [
       "['Agua', 'Jamón', 'Huevos', 'Queso', 'Aceite']"
      ]
     },
     "execution_count": 19,
     "metadata": {},
     "output_type": "execute_result"
    }
   ],
   "source": [
    "shopping.insert(3, 'Queso')\n",
    "\n",
    "shopping"
   ]
  },
  {
   "cell_type": "markdown",
   "metadata": {},
   "source": [
    "El índice que especificamos en la función insert() lo podemos intepretar como la posición delante (a la izquierda) de la cual vamos a colocar el nuevo valor en la lista."
   ]
  },
  {
   "cell_type": "code",
   "execution_count": 20,
   "metadata": {},
   "outputs": [
    {
     "data": {
      "text/plain": [
       "['Agua', 'Huevos', 'Aceite', 'Mermelada']"
      ]
     },
     "execution_count": 20,
     "metadata": {},
     "output_type": "execute_result"
    }
   ],
   "source": [
    "shopping = ['Agua', 'Huevos', 'Aceite']\n",
    "\n",
    "shopping.insert(100, 'Mermelada')\n",
    "shopping"
   ]
  },
  {
   "cell_type": "code",
   "execution_count": 21,
   "metadata": {},
   "outputs": [
    {
     "data": {
      "text/plain": [
       "['Arroz', 'Agua', 'Huevos', 'Aceite', 'Mermelada']"
      ]
     },
     "execution_count": 21,
     "metadata": {},
     "output_type": "execute_result"
    }
   ],
   "source": [
    "shopping.insert(-100, 'Arroz')\n",
    "shopping"
   ]
  },
  {
   "cell_type": "markdown",
   "metadata": {},
   "source": [
    "Aunque es posible utilizar insert() para añadir elementos al final de una lista, siempre se recomienda usar append() por su mayor legibilidad:"
   ]
  },
  {
   "cell_type": "code",
   "execution_count": 22,
   "metadata": {},
   "outputs": [
    {
     "data": {
      "text/plain": [
       "['Agua',\n",
       " 'Huevos',\n",
       " 'Aceite',\n",
       " 'Agua',\n",
       " 'Huevos',\n",
       " 'Aceite',\n",
       " 'Agua',\n",
       " 'Huevos',\n",
       " 'Aceite']"
      ]
     },
     "execution_count": 22,
     "metadata": {},
     "output_type": "execute_result"
    }
   ],
   "source": [
    "# Repetir elementos\n",
    "\n",
    "shopping = ['Agua', 'Huevos', 'Aceite']\n",
    "\n",
    "shopping * 3"
   ]
  },
  {
   "cell_type": "code",
   "execution_count": 24,
   "metadata": {},
   "outputs": [
    {
     "data": {
      "text/plain": [
       "['Agua', 'Huevos', 'Aceite', 'Naranja', 'Manzana', 'Piña']"
      ]
     },
     "execution_count": 24,
     "metadata": {},
     "output_type": "execute_result"
    }
   ],
   "source": [
    "# Combinar listas\n",
    "## Conservando la lista original\n",
    "shopping = ['Agua', 'Huevos', 'Aceite']\n",
    "fruitshop = ['Naranja', 'Manzana', 'Piña']\n",
    "\n",
    "shopping + fruitshop"
   ]
  },
  {
   "cell_type": "code",
   "execution_count": 25,
   "metadata": {},
   "outputs": [
    {
     "data": {
      "text/plain": [
       "['Agua', 'Huevos', 'Aceite', 'Naranja', 'Manzana', 'Piña']"
      ]
     },
     "execution_count": 25,
     "metadata": {},
     "output_type": "execute_result"
    }
   ],
   "source": [
    "## Modificando la lista original\n",
    "shopping.extend(fruitshop)\n",
    "shopping"
   ]
  },
  {
   "cell_type": "markdown",
   "metadata": {},
   "source": [
    "Hay que tener en cuenta que extend() funciona adecuadamente si pasamos una lista como argumento. En otro caso, quizás los resultados no sean los esperados."
   ]
  },
  {
   "cell_type": "code",
   "execution_count": 26,
   "metadata": {},
   "outputs": [
    {
     "data": {
      "text/plain": [
       "['Agua', 'Huevos', 'Aceite', 'L', 'i', 'm', 'ó', 'n']"
      ]
     },
     "execution_count": 26,
     "metadata": {},
     "output_type": "execute_result"
    }
   ],
   "source": [
    "shopping = ['Agua', 'Huevos', 'Aceite']\n",
    "shopping.extend('Limón')\n",
    "shopping"
   ]
  },
  {
   "cell_type": "markdown",
   "metadata": {},
   "source": [
    "Se podría pensar en el uso de append() para combinar listas. La realidad es que no funciona exactamente como esperamos; la segunda lista se añadiría como una sublista de la principal"
   ]
  },
  {
   "cell_type": "code",
   "execution_count": 27,
   "metadata": {},
   "outputs": [
    {
     "data": {
      "text/plain": [
       "['Agua', 'Huevos', 'Aceite', ['Naranja', 'Manzana', 'Piña']]"
      ]
     },
     "execution_count": 27,
     "metadata": {},
     "output_type": "execute_result"
    }
   ],
   "source": [
    "shopping = ['Agua', 'Huevos', 'Aceite']\n",
    "fruitshop = ['Naranja', 'Manzana', 'Piña']\n",
    "\n",
    "shopping.append(fruitshop)\n",
    "\n",
    "shopping"
   ]
  },
  {
   "cell_type": "code",
   "execution_count": 28,
   "metadata": {},
   "outputs": [
    {
     "data": {
      "text/plain": [
       "'Agua'"
      ]
     },
     "execution_count": 28,
     "metadata": {},
     "output_type": "execute_result"
    }
   ],
   "source": [
    "# Modificar una lista\n",
    "shopping = ['Agua', 'Huevos', 'Aceite']\n",
    "shopping[0]"
   ]
  },
  {
   "cell_type": "code",
   "execution_count": 29,
   "metadata": {},
   "outputs": [
    {
     "data": {
      "text/plain": [
       "['Jugo', 'Huevos', 'Aceite']"
      ]
     },
     "execution_count": 29,
     "metadata": {},
     "output_type": "execute_result"
    }
   ],
   "source": [
    "shopping[0] = 'Jugo'\n",
    "shopping"
   ]
  },
  {
   "cell_type": "code",
   "execution_count": 30,
   "metadata": {},
   "outputs": [
    {
     "data": {
      "text/plain": [
       "['Huevos', 'Aceite', 'Sal']"
      ]
     },
     "execution_count": 30,
     "metadata": {},
     "output_type": "execute_result"
    }
   ],
   "source": [
    "# Modificar con troceado\n",
    "shopping = ['Agua', 'Huevos', 'Aceite', 'Sal', 'Limón']\n",
    "shopping[1:4]"
   ]
  },
  {
   "cell_type": "code",
   "execution_count": 31,
   "metadata": {},
   "outputs": [
    {
     "data": {
      "text/plain": [
       "['Agua', 'Atún', 'Pasta', 'Limón']"
      ]
     },
     "execution_count": 31,
     "metadata": {},
     "output_type": "execute_result"
    }
   ],
   "source": [
    "shopping[1:4] = ['Atún', 'Pasta']\n",
    "shopping"
   ]
  },
  {
   "cell_type": "code",
   "execution_count": 32,
   "metadata": {},
   "outputs": [
    {
     "data": {
      "text/plain": [
       "['Agua', 'Huevos', 'Aceite', 'Limón']"
      ]
     },
     "execution_count": 32,
     "metadata": {},
     "output_type": "execute_result"
    }
   ],
   "source": [
    "# Borrar elementos\n",
    "## Por su indice\n",
    "shopping = ['Agua', 'Huevos', 'Aceite', 'Sal', 'Limón']\n",
    "del shopping[3]\n",
    "shopping"
   ]
  },
  {
   "cell_type": "code",
   "execution_count": 33,
   "metadata": {},
   "outputs": [
    {
     "data": {
      "text/plain": [
       "['Agua', 'Huevos', 'Aceite', 'Limón']"
      ]
     },
     "execution_count": 33,
     "metadata": {},
     "output_type": "execute_result"
    }
   ],
   "source": [
    "## Por su valor\n",
    "shopping = ['Agua', 'Huevos', 'Aceite', 'Sal', 'Limón']\n",
    "shopping.remove('Sal')\n",
    "shopping"
   ]
  },
  {
   "cell_type": "markdown",
   "metadata": {},
   "source": [
    "Si existen valores duplicados, la función remove() sólo borrará la primera ocurrencia."
   ]
  },
  {
   "cell_type": "code",
   "execution_count": 34,
   "metadata": {},
   "outputs": [
    {
     "data": {
      "text/plain": [
       "'Limón'"
      ]
     },
     "execution_count": 34,
     "metadata": {},
     "output_type": "execute_result"
    }
   ],
   "source": [
    "## Por su índice (con extracción)\n",
    "shopping = ['Agua', 'Huevos', 'Aceite', 'Sal', 'Limón']\n",
    "\n",
    "product = shopping.pop()  # shopping.pop(-1)\n",
    "product"
   ]
  },
  {
   "cell_type": "code",
   "execution_count": 35,
   "metadata": {},
   "outputs": [
    {
     "data": {
      "text/plain": [
       "['Agua', 'Huevos', 'Aceite', 'Sal']"
      ]
     },
     "execution_count": 35,
     "metadata": {},
     "output_type": "execute_result"
    }
   ],
   "source": [
    "shopping"
   ]
  },
  {
   "cell_type": "code",
   "execution_count": 36,
   "metadata": {},
   "outputs": [
    {
     "data": {
      "text/plain": [
       "'Aceite'"
      ]
     },
     "execution_count": 36,
     "metadata": {},
     "output_type": "execute_result"
    }
   ],
   "source": [
    "product = shopping.pop(2)\n",
    "product"
   ]
  },
  {
   "cell_type": "code",
   "execution_count": 37,
   "metadata": {},
   "outputs": [
    {
     "data": {
      "text/plain": [
       "['Agua', 'Huevos', 'Sal']"
      ]
     },
     "execution_count": 37,
     "metadata": {},
     "output_type": "execute_result"
    }
   ],
   "source": [
    "shopping"
   ]
  },
  {
   "cell_type": "markdown",
   "metadata": {},
   "source": [
    "Si usamos la función pop() sin pasarle ningún argumento, por defecto usará el índice -1, es decir, el último elemento de la lista. Pero también podemos indicarle el índice del elemento a extraer."
   ]
  },
  {
   "cell_type": "code",
   "execution_count": 38,
   "metadata": {},
   "outputs": [
    {
     "data": {
      "text/plain": [
       "['Agua', 'Limón']"
      ]
     },
     "execution_count": 38,
     "metadata": {},
     "output_type": "execute_result"
    }
   ],
   "source": [
    "## Por su rango\n",
    "shopping = ['Agua', 'Huevos', 'Aceite', 'Sal', 'Limón']\n",
    "shopping[1:4] = []\n",
    "shopping"
   ]
  },
  {
   "cell_type": "code",
   "execution_count": 39,
   "metadata": {},
   "outputs": [
    {
     "data": {
      "text/plain": [
       "['Agua', 'Limón']"
      ]
     },
     "execution_count": 39,
     "metadata": {},
     "output_type": "execute_result"
    }
   ],
   "source": [
    "# Borrado completo de la lista\n",
    "shopping = ['Agua', 'Huevos', 'Aceite', 'Sal', 'Limón']\n",
    "shopping[1:4] = []\n",
    "shopping"
   ]
  },
  {
   "cell_type": "code",
   "execution_count": 40,
   "metadata": {},
   "outputs": [
    {
     "data": {
      "text/plain": [
       "[]"
      ]
     },
     "execution_count": 40,
     "metadata": {},
     "output_type": "execute_result"
    }
   ],
   "source": [
    "shopping = ['Agua', 'Huevos', 'Aceite', 'Sal', 'Limón']\n",
    "shopping = []  # Nueva zona de memoria\n",
    "shopping"
   ]
  },
  {
   "cell_type": "markdown",
   "metadata": {},
   "source": [
    "La memoria que queda «en el limbo» después de asignar un nuevo valor a la lista es detectada por el recolector de basura de Python, quien se encarga de liberar aquellos datos que no están referenciados por ninguna variable.\n",
    "\n",
    "A efectos de velocidad de ejecución, shopping.clear() «parece» ir más rápido que shopping = [].\n"
   ]
  },
  {
   "cell_type": "code",
   "execution_count": 41,
   "metadata": {},
   "outputs": [
    {
     "data": {
      "text/plain": [
       "1"
      ]
     },
     "execution_count": 41,
     "metadata": {},
     "output_type": "execute_result"
    }
   ],
   "source": [
    "# Encontrar un elemento\n",
    "shopping = ['Agua', 'Huevos', 'Aceite', 'Sal', 'Limón']\n",
    "\n",
    "shopping.index('Huevos')"
   ]
  },
  {
   "cell_type": "code",
   "execution_count": 42,
   "metadata": {},
   "outputs": [
    {
     "ename": "ValueError",
     "evalue": "'Pollo' is not in list",
     "output_type": "error",
     "traceback": [
      "\u001b[1;31m---------------------------------------------------------------------------\u001b[0m",
      "\u001b[1;31mValueError\u001b[0m                                Traceback (most recent call last)",
      "Cell \u001b[1;32mIn[42], line 3\u001b[0m\n\u001b[0;32m      1\u001b[0m shopping \u001b[38;5;241m=\u001b[39m [\u001b[38;5;124m'\u001b[39m\u001b[38;5;124mAgua\u001b[39m\u001b[38;5;124m'\u001b[39m, \u001b[38;5;124m'\u001b[39m\u001b[38;5;124mHuevos\u001b[39m\u001b[38;5;124m'\u001b[39m, \u001b[38;5;124m'\u001b[39m\u001b[38;5;124mAceite\u001b[39m\u001b[38;5;124m'\u001b[39m, \u001b[38;5;124m'\u001b[39m\u001b[38;5;124mSal\u001b[39m\u001b[38;5;124m'\u001b[39m, \u001b[38;5;124m'\u001b[39m\u001b[38;5;124mLimón\u001b[39m\u001b[38;5;124m'\u001b[39m]\n\u001b[1;32m----> 3\u001b[0m \u001b[43mshopping\u001b[49m\u001b[38;5;241;43m.\u001b[39;49m\u001b[43mindex\u001b[49m\u001b[43m(\u001b[49m\u001b[38;5;124;43m'\u001b[39;49m\u001b[38;5;124;43mPollo\u001b[39;49m\u001b[38;5;124;43m'\u001b[39;49m\u001b[43m)\u001b[49m\n",
      "\u001b[1;31mValueError\u001b[0m: 'Pollo' is not in list"
     ]
    }
   ],
   "source": [
    "shopping = ['Agua', 'Huevos', 'Aceite', 'Sal', 'Limón']\n",
    "\n",
    "shopping.index('Pollo')"
   ]
  },
  {
   "cell_type": "code",
   "execution_count": 43,
   "metadata": {},
   "outputs": [
    {
     "data": {
      "text/plain": [
       "True"
      ]
     },
     "execution_count": 43,
     "metadata": {},
     "output_type": "execute_result"
    }
   ],
   "source": [
    "# Pertenencia a un elemento\n",
    "shopping = ['Agua', 'Huevos', 'Aceite', 'Sal', 'Limón']\n",
    "\n",
    "'Aceite' in shopping"
   ]
  },
  {
   "cell_type": "code",
   "execution_count": 44,
   "metadata": {},
   "outputs": [
    {
     "data": {
      "text/plain": [
       "False"
      ]
     },
     "execution_count": 44,
     "metadata": {},
     "output_type": "execute_result"
    }
   ],
   "source": [
    "'Pollo' in shopping"
   ]
  },
  {
   "cell_type": "code",
   "execution_count": 45,
   "metadata": {},
   "outputs": [
    {
     "data": {
      "text/plain": [
       "0"
      ]
     },
     "execution_count": 45,
     "metadata": {},
     "output_type": "execute_result"
    }
   ],
   "source": [
    "# Número de ocurrencias\n",
    "sheldon_greeting = ['Penny', 'Penny', 'Penny']\n",
    "\n",
    "sheldon_greeting.count('Howard')"
   ]
  },
  {
   "cell_type": "code",
   "execution_count": 46,
   "metadata": {},
   "outputs": [
    {
     "data": {
      "text/plain": [
       "3"
      ]
     },
     "execution_count": 46,
     "metadata": {},
     "output_type": "execute_result"
    }
   ],
   "source": [
    "sheldon_greeting.count('Penny')"
   ]
  },
  {
   "cell_type": "code",
   "execution_count": 47,
   "metadata": {},
   "outputs": [
    {
     "data": {
      "text/plain": [
       "['No', 'hay', 'mal', 'que', 'por', 'bien', 'no', 'venga']"
      ]
     },
     "execution_count": 47,
     "metadata": {},
     "output_type": "execute_result"
    }
   ],
   "source": [
    "# Dividir una cadena de texto en lista\n",
    "proverb = 'No hay mal que por bien no venga'\n",
    "proverb.split()\n"
   ]
  },
  {
   "cell_type": "code",
   "execution_count": 48,
   "metadata": {},
   "outputs": [
    {
     "data": {
      "text/plain": [
       "['Martillo', 'Sierra', 'Destornillador']"
      ]
     },
     "execution_count": 48,
     "metadata": {},
     "output_type": "execute_result"
    }
   ],
   "source": [
    "tools = 'Martillo,Sierra,Destornillador'\n",
    "tools.split(',')"
   ]
  },
  {
   "cell_type": "markdown",
   "metadata": {},
   "source": [
    "Si no se especifica un separador, split() usa por defecto cualquier secuencia de espacios en blanco, tabuladores y saltos de línea."
   ]
  },
  {
   "cell_type": "code",
   "execution_count": 49,
   "metadata": {},
   "outputs": [
    {
     "data": {
      "text/plain": [
       "list"
      ]
     },
     "execution_count": 49,
     "metadata": {},
     "output_type": "execute_result"
    }
   ],
   "source": [
    "game = 'piedra-papel-tijera'\n",
    "\n",
    "type(game_tools := game.split('-'))"
   ]
  },
  {
   "cell_type": "code",
   "execution_count": 50,
   "metadata": {},
   "outputs": [
    {
     "data": {
      "text/plain": [
       "['piedra', 'papel', 'tijera']"
      ]
     },
     "execution_count": 50,
     "metadata": {},
     "output_type": "execute_result"
    }
   ],
   "source": [
    "game_tools"
   ]
  },
  {
   "cell_type": "code",
   "execution_count": 51,
   "metadata": {},
   "outputs": [
    {
     "ename": "SyntaxError",
     "evalue": "invalid syntax (2650314878.py, line 1)",
     "output_type": "error",
     "traceback": [
      "\u001b[1;36m  Cell \u001b[1;32mIn[51], line 1\u001b[1;36m\u001b[0m\n\u001b[1;33m    game_tools := game.split('-')\u001b[0m\n\u001b[1;37m                                 ^\u001b[0m\n\u001b[1;31mSyntaxError\u001b[0m\u001b[1;31m:\u001b[0m invalid syntax\n"
     ]
    }
   ],
   "source": [
    "game_tools := game.split('-')"
   ]
  },
  {
   "cell_type": "code",
   "execution_count": 52,
   "metadata": {},
   "outputs": [
    {
     "data": {
      "text/plain": [
       "('3 ', '+', ' 4')"
      ]
     },
     "execution_count": 52,
     "metadata": {},
     "output_type": "execute_result"
    }
   ],
   "source": [
    "# Particionado de cadenas de texto\n",
    "text = '3 + 4'\n",
    "\n",
    "text.partition('+')"
   ]
  },
  {
   "cell_type": "markdown",
   "metadata": {},
   "source": [
    "En este caso el resultado de la función partition() es una tupla."
   ]
  },
  {
   "cell_type": "code",
   "execution_count": 53,
   "metadata": {},
   "outputs": [
    {
     "data": {
      "text/plain": [
       "'Agua,Huevos,Aceite,Sal,Limón'"
      ]
     },
     "execution_count": 53,
     "metadata": {},
     "output_type": "execute_result"
    }
   ],
   "source": [
    "# Unir una lista en cadena de texto\n",
    "shopping = ['Agua', 'Huevos', 'Aceite', 'Sal', 'Limón']\n",
    "\n",
    "','.join(shopping)"
   ]
  },
  {
   "cell_type": "code",
   "execution_count": 54,
   "metadata": {},
   "outputs": [
    {
     "data": {
      "text/plain": [
       "'Agua Huevos Aceite Sal Limón'"
      ]
     },
     "execution_count": 54,
     "metadata": {},
     "output_type": "execute_result"
    }
   ],
   "source": [
    "' '.join(shopping)"
   ]
  },
  {
   "cell_type": "code",
   "execution_count": 55,
   "metadata": {},
   "outputs": [
    {
     "data": {
      "text/plain": [
       "'Agua|Huevos|Aceite|Sal|Limón'"
      ]
     },
     "execution_count": 55,
     "metadata": {},
     "output_type": "execute_result"
    }
   ],
   "source": [
    "'|'.join(shopping)"
   ]
  },
  {
   "cell_type": "markdown",
   "metadata": {},
   "source": [
    "Hay que tener en cuenta que join() sólo funciona si todos sus elementos son cadenas de texto"
   ]
  },
  {
   "cell_type": "code",
   "execution_count": 56,
   "metadata": {},
   "outputs": [
    {
     "ename": "TypeError",
     "evalue": "sequence item 0: expected str instance, int found",
     "output_type": "error",
     "traceback": [
      "\u001b[1;31m---------------------------------------------------------------------------\u001b[0m",
      "\u001b[1;31mTypeError\u001b[0m                                 Traceback (most recent call last)",
      "Cell \u001b[1;32mIn[56], line 1\u001b[0m\n\u001b[1;32m----> 1\u001b[0m \u001b[38;5;124;43m'\u001b[39;49m\u001b[38;5;124;43m, \u001b[39;49m\u001b[38;5;124;43m'\u001b[39;49m\u001b[38;5;241;43m.\u001b[39;49m\u001b[43mjoin\u001b[49m\u001b[43m(\u001b[49m\u001b[43m[\u001b[49m\u001b[38;5;241;43m1\u001b[39;49m\u001b[43m,\u001b[49m\u001b[43m \u001b[49m\u001b[38;5;241;43m2\u001b[39;49m\u001b[43m,\u001b[49m\u001b[43m \u001b[49m\u001b[38;5;241;43m3\u001b[39;49m\u001b[43m,\u001b[49m\u001b[43m \u001b[49m\u001b[38;5;241;43m4\u001b[39;49m\u001b[43m,\u001b[49m\u001b[43m \u001b[49m\u001b[38;5;241;43m5\u001b[39;49m\u001b[43m]\u001b[49m\u001b[43m)\u001b[49m\n",
      "\u001b[1;31mTypeError\u001b[0m: sequence item 0: expected str instance, int found"
     ]
    }
   ],
   "source": [
    "', '.join([1, 2, 3, 4, 5])"
   ]
  },
  {
   "cell_type": "code",
   "execution_count": 57,
   "metadata": {},
   "outputs": [
    {
     "data": {
      "text/plain": [
       "['Aceite', 'Agua', 'Huevos', 'Limón', 'Sal']"
      ]
     },
     "execution_count": 57,
     "metadata": {},
     "output_type": "execute_result"
    }
   ],
   "source": [
    "# Ordenar una lista\n",
    "## Conservando la lista original\n",
    "shopping = ['Agua', 'Huevos', 'Aceite', 'Sal', 'Limón']\n",
    "\n",
    "sorted(shopping)"
   ]
  },
  {
   "cell_type": "code",
   "execution_count": 58,
   "metadata": {},
   "outputs": [
    {
     "data": {
      "text/plain": [
       "['Aceite', 'Agua', 'Huevos', 'Limón', 'Sal']"
      ]
     },
     "execution_count": 58,
     "metadata": {},
     "output_type": "execute_result"
    }
   ],
   "source": [
    "## Modificando la lista original\n",
    "shopping = ['Agua', 'Huevos', 'Aceite', 'Sal', 'Limón']\n",
    "\n",
    "shopping.sort()\n",
    "\n",
    "shopping"
   ]
  },
  {
   "cell_type": "code",
   "execution_count": 59,
   "metadata": {},
   "outputs": [
    {
     "data": {
      "text/plain": [
       "['Sal', 'Limón', 'Huevos', 'Agua', 'Aceite']"
      ]
     },
     "execution_count": 59,
     "metadata": {},
     "output_type": "execute_result"
    }
   ],
   "source": [
    "shopping = ['Agua', 'Huevos', 'Aceite', 'Sal', 'Limón']\n",
    "\n",
    "sorted(shopping, reverse=True)"
   ]
  },
  {
   "cell_type": "code",
   "execution_count": 60,
   "metadata": {},
   "outputs": [
    {
     "data": {
      "text/plain": [
       "['Sal', 'Limón', 'Huevos', 'Agua', 'Aceite']"
      ]
     },
     "execution_count": 60,
     "metadata": {},
     "output_type": "execute_result"
    }
   ],
   "source": [
    "shopping.sort(reverse=True)\n",
    "\n",
    "shopping"
   ]
  },
  {
   "cell_type": "code",
   "execution_count": 61,
   "metadata": {},
   "outputs": [
    {
     "data": {
      "text/plain": [
       "5"
      ]
     },
     "execution_count": 61,
     "metadata": {},
     "output_type": "execute_result"
    }
   ],
   "source": [
    "# Longitud de una lista\n",
    "len(shopping)"
   ]
  },
  {
   "cell_type": "code",
   "execution_count": 62,
   "metadata": {},
   "outputs": [
    {
     "name": "stdout",
     "output_type": "stream",
     "text": [
      "Agua\n",
      "Huevos\n",
      "Aceite\n",
      "Sal\n",
      "Limón\n"
     ]
    }
   ],
   "source": [
    "# Iterar sobre una lista\n",
    "shopping = ['Agua', 'Huevos', 'Aceite', 'Sal', 'Limón']\n",
    "\n",
    "for product in shopping:\n",
    "    print(product)"
   ]
  },
  {
   "cell_type": "markdown",
   "metadata": {},
   "source": [
    "También es posible usar la sentencia break en este tipo de bucles para abortar su ejecución en algún momento que nos interese."
   ]
  },
  {
   "cell_type": "code",
   "execution_count": 63,
   "metadata": {},
   "outputs": [
    {
     "name": "stdout",
     "output_type": "stream",
     "text": [
      "0 Agua\n",
      "1 Huevos\n",
      "2 Aceite\n",
      "3 Sal\n",
      "4 Limón\n"
     ]
    }
   ],
   "source": [
    "# Iterar usando enumeración\n",
    "shopping = ['Agua', 'Huevos', 'Aceite', 'Sal', 'Limón']\n",
    "\n",
    "for i, product in enumerate(shopping):\n",
    "    print(i, product)"
   ]
  },
  {
   "cell_type": "code",
   "execution_count": 64,
   "metadata": {},
   "outputs": [
    {
     "data": {
      "text/plain": [
       "<enumerate at 0x1a0b5ca8c40>"
      ]
     },
     "execution_count": 64,
     "metadata": {},
     "output_type": "execute_result"
    }
   ],
   "source": [
    "enumerate(shopping)"
   ]
  },
  {
   "cell_type": "code",
   "execution_count": 65,
   "metadata": {},
   "outputs": [
    {
     "name": "stdout",
     "output_type": "stream",
     "text": [
      "<enumerate object at 0x000001A0B5CA7040>\n"
     ]
    }
   ],
   "source": [
    "print(enumerate(shopping))"
   ]
  },
  {
   "cell_type": "code",
   "execution_count": 66,
   "metadata": {},
   "outputs": [
    {
     "name": "stdout",
     "output_type": "stream",
     "text": [
      "Agua mineral natural\n",
      "Aceite de oliva virgen\n",
      "Arroz basmati\n"
     ]
    }
   ],
   "source": [
    "# Iteración sobre múltiples listas\n",
    "shopping = ['Agua', 'Aceite', 'Arroz']\n",
    "details = ['mineral natural', 'de oliva virgen', 'basmati']\n",
    "\n",
    "for product, detail in zip(shopping, details):\n",
    "    print(product, detail)"
   ]
  },
  {
   "cell_type": "markdown",
   "metadata": {},
   "source": [
    "En el caso de que las listas no tengan la misma longitud, la función zip() realiza la combinación hasta que se agota la lista más corta"
   ]
  },
  {
   "cell_type": "code",
   "execution_count": 67,
   "metadata": {},
   "outputs": [
    {
     "data": {
      "text/plain": [
       "[('Agua', 'mineral natural'),\n",
       " ('Aceite', 'de oliva virgen'),\n",
       " ('Arroz', 'basmati')]"
      ]
     },
     "execution_count": 67,
     "metadata": {},
     "output_type": "execute_result"
    }
   ],
   "source": [
    "shopping = ['Agua', 'Aceite', 'Arroz']\n",
    "details = ['mineral natural', 'de oliva virgen', 'basmati']\n",
    "\n",
    "list(zip(shopping, details))"
   ]
  },
  {
   "cell_type": "code",
   "execution_count": 68,
   "metadata": {},
   "outputs": [
    {
     "data": {
      "text/plain": [
       "True"
      ]
     },
     "execution_count": 68,
     "metadata": {},
     "output_type": "execute_result"
    }
   ],
   "source": [
    "# Comparar listas\n",
    "[1, 2, 3] < [1, 2, 4]"
   ]
  },
  {
   "cell_type": "markdown",
   "metadata": {},
   "source": [
    "### Cuidado con las copias"
   ]
  },
  {
   "cell_type": "code",
   "execution_count": 69,
   "metadata": {},
   "outputs": [],
   "source": [
    "original_list = [4, 3, 7, 1]\n",
    "\n",
    "copy_list = original_list\n",
    "\n",
    "original_list[0] = 15"
   ]
  },
  {
   "cell_type": "code",
   "execution_count": 70,
   "metadata": {},
   "outputs": [
    {
     "data": {
      "text/plain": [
       "[15, 3, 7, 1]"
      ]
     },
     "execution_count": 70,
     "metadata": {},
     "output_type": "execute_result"
    }
   ],
   "source": [
    "original_list"
   ]
  },
  {
   "cell_type": "code",
   "execution_count": 71,
   "metadata": {},
   "outputs": [
    {
     "data": {
      "text/plain": [
       "[15, 3, 7, 1]"
      ]
     },
     "execution_count": 71,
     "metadata": {},
     "output_type": "execute_result"
    }
   ],
   "source": [
    "copy_list"
   ]
  },
  {
   "cell_type": "markdown",
   "metadata": {},
   "source": [
    "Dado que las variables «apuntan» a la misma zona de memoria, al modificar una de ellas, el cambio también se ve reflejado en la otra."
   ]
  },
  {
   "cell_type": "code",
   "execution_count": 75,
   "metadata": {},
   "outputs": [],
   "source": [
    "# Usando .copy()\n",
    "original_list = [4, 3, 7, 1]\n",
    "\n",
    "copy_list = original_list.copy()\n",
    "\n",
    "original_list[0] = 15"
   ]
  },
  {
   "cell_type": "code",
   "execution_count": 73,
   "metadata": {},
   "outputs": [
    {
     "data": {
      "text/plain": [
       "[15, 3, 7, 1]"
      ]
     },
     "execution_count": 73,
     "metadata": {},
     "output_type": "execute_result"
    }
   ],
   "source": [
    "original_list"
   ]
  },
  {
   "cell_type": "code",
   "execution_count": 74,
   "metadata": {},
   "outputs": [
    {
     "data": {
      "text/plain": [
       "[4, 3, 7, 1]"
      ]
     },
     "execution_count": 74,
     "metadata": {},
     "output_type": "execute_result"
    }
   ],
   "source": [
    "copy_list"
   ]
  },
  {
   "cell_type": "code",
   "execution_count": 76,
   "metadata": {},
   "outputs": [
    {
     "data": {
      "text/plain": [
       "True"
      ]
     },
     "execution_count": 76,
     "metadata": {},
     "output_type": "execute_result"
    }
   ],
   "source": [
    "# Usando troceado\n",
    "original_list = [4, 3, 7, 1]\n",
    "\n",
    "copy_list = original_list[:]\n",
    "\n",
    "id(original_list) != id(copy_list)"
   ]
  },
  {
   "cell_type": "markdown",
   "metadata": {},
   "source": [
    "Truco: En el caso de que estemos trabajando con listas que contienen elementos mutables, debemos hacer uso de la función deepcopy() dentro del módulo copy de la librería estándar."
   ]
  },
  {
   "cell_type": "code",
   "execution_count": 77,
   "metadata": {},
   "outputs": [
    {
     "name": "stdout",
     "output_type": "stream",
     "text": [
      "Cool word!\n"
     ]
    }
   ],
   "source": [
    "# Veracidad múltiple\n",
    "## Versión clásica\n",
    "word = 'python'\n",
    "\n",
    "if len(word) > 4 and word.startswith('p') and word.count('y') >= 1:\n",
    "    print('Cool word!')\n",
    "else:\n",
    "    print('No thanks')"
   ]
  },
  {
   "cell_type": "code",
   "execution_count": 78,
   "metadata": {},
   "outputs": [
    {
     "name": "stdout",
     "output_type": "stream",
     "text": [
      "Cool word!\n"
     ]
    }
   ],
   "source": [
    "# Veracidad múltiple usando all()\n",
    "word = 'python'\n",
    "\n",
    "enough_length = len(word) > 4            # True\n",
    "right_beginning = word.startswith('p')   # True\n",
    "min_ys = word.count('y') >= 1            # True\n",
    "\n",
    "is_cool_word = all([enough_length, right_beginning, min_ys])\n",
    "\n",
    "if is_cool_word:\n",
    "    print('Cool word!')\n",
    "else:\n",
    "    print('No thanks')"
   ]
  },
  {
   "cell_type": "code",
   "execution_count": 79,
   "metadata": {},
   "outputs": [
    {
     "name": "stdout",
     "output_type": "stream",
     "text": [
      "Fine word!\n"
     ]
    }
   ],
   "source": [
    "# Veracidad múltiple usando any()\n",
    "word = 'yeah'\n",
    "\n",
    "enough_length = len(word) > 4            # False\n",
    "right_beginning = word.startswith('p')   # False\n",
    "min_ys = word.count('y') >= 1            # True\n",
    "\n",
    "is_fine_word = any([enough_length, right_beginning, min_ys])\n",
    "\n",
    "if is_fine_word:\n",
    "    print('Fine word!')\n",
    "else:\n",
    "    print('No thanks')"
   ]
  },
  {
   "cell_type": "code",
   "execution_count": 80,
   "metadata": {},
   "outputs": [
    {
     "data": {
      "text/plain": [
       "True"
      ]
     },
     "execution_count": 80,
     "metadata": {},
     "output_type": "execute_result"
    }
   ],
   "source": [
    "all([])"
   ]
  },
  {
   "cell_type": "code",
   "execution_count": 81,
   "metadata": {},
   "outputs": [
    {
     "data": {
      "text/plain": [
       "False"
      ]
     },
     "execution_count": 81,
     "metadata": {},
     "output_type": "execute_result"
    }
   ],
   "source": [
    "any([])"
   ]
  },
  {
   "cell_type": "code",
   "execution_count": 82,
   "metadata": {},
   "outputs": [
    {
     "data": {
      "text/plain": [
       "[32, 45, 11, 87, 20, 48]"
      ]
     },
     "execution_count": 82,
     "metadata": {},
     "output_type": "execute_result"
    }
   ],
   "source": [
    "# Listas por comprensión\n",
    "## Versión clásica\n",
    "values = '32,45,11,87,20,48'\n",
    "\n",
    "int_values = []\n",
    "\n",
    "for value in values.split(','):\n",
    "    int_value = int(value)\n",
    "    int_values.append(int_value)\n",
    "\n",
    "\n",
    "int_values"
   ]
  },
  {
   "cell_type": "code",
   "execution_count": 83,
   "metadata": {},
   "outputs": [
    {
     "data": {
      "text/plain": [
       "[32, 45, 11, 87, 20, 48]"
      ]
     },
     "execution_count": 83,
     "metadata": {},
     "output_type": "execute_result"
    }
   ],
   "source": [
    "## Lista por comprensión\n",
    "values = '32,45,11,87,20,48'\n",
    "\n",
    "int_values = [int(value) for value in values.split(',')]\n",
    "\n",
    "int_values"
   ]
  },
  {
   "cell_type": "code",
   "execution_count": 84,
   "metadata": {},
   "outputs": [
    {
     "data": {
      "text/plain": [
       "[45, 48]"
      ]
     },
     "execution_count": 84,
     "metadata": {},
     "output_type": "execute_result"
    }
   ],
   "source": [
    "## Condiciones en comprensiones\n",
    "values = '32,45,11,87,20,48'\n",
    "\n",
    "int_values = [int(v) for v in values.split(',') if v.startswith('4')]\n",
    "\n",
    "int_values"
   ]
  },
  {
   "cell_type": "code",
   "execution_count": 85,
   "metadata": {},
   "outputs": [
    {
     "data": {
      "text/plain": [
       "['32x32',\n",
       " '32x45',\n",
       " '32x11',\n",
       " '32x87',\n",
       " '32x20',\n",
       " '32x48',\n",
       " '45x32',\n",
       " '45x45',\n",
       " '45x11',\n",
       " '45x87',\n",
       " '45x20',\n",
       " '45x48',\n",
       " '11x32',\n",
       " '11x45',\n",
       " '11x11',\n",
       " '11x87',\n",
       " '11x20',\n",
       " '11x48',\n",
       " '87x32',\n",
       " '87x45',\n",
       " '87x11',\n",
       " '87x87',\n",
       " '87x20',\n",
       " '87x48',\n",
       " '20x32',\n",
       " '20x45',\n",
       " '20x11',\n",
       " '20x87',\n",
       " '20x20',\n",
       " '20x48',\n",
       " '48x32',\n",
       " '48x45',\n",
       " '48x11',\n",
       " '48x87',\n",
       " '48x20',\n",
       " '48x48']"
      ]
     },
     "execution_count": 85,
     "metadata": {},
     "output_type": "execute_result"
    }
   ],
   "source": [
    "## Anidamiento en comprensiones\n",
    "values = '32,45,11,87,20,48'\n",
    "svalues = values.split(',')\n",
    "\n",
    "combinations = [f'{v1}x{v2}' for v1 in svalues for v2 in svalues]\n",
    "\n",
    "combinations"
   ]
  },
  {
   "cell_type": "markdown",
   "metadata": {},
   "source": [
    "## sys.argv\n",
    "Cuando queramos ejecutar un programa Python desde línea de comandos, tendremos la posibilidad de acceder a los argumentos de dicho programa. Para ello se utiliza una lista «especial» que la encontramos dentro del módulo sys y que se denomina argv"
   ]
  },
  {
   "cell_type": "code",
   "execution_count": 89,
   "metadata": {},
   "outputs": [
    {
     "ename": "ValueError",
     "evalue": "could not convert string to float: '--f=c:\\\\Users\\\\Chio\\\\AppData\\\\Roaming\\\\jupyter\\\\runtime\\\\kernel-v2-5456dWS82FPBHcRh.json'",
     "output_type": "error",
     "traceback": [
      "\u001b[1;31m---------------------------------------------------------------------------\u001b[0m",
      "\u001b[1;31mValueError\u001b[0m                                Traceback (most recent call last)",
      "Cell \u001b[1;32mIn[89], line 3\u001b[0m\n\u001b[0;32m      1\u001b[0m \u001b[38;5;28;01mimport\u001b[39;00m \u001b[38;5;21;01msys\u001b[39;00m\n\u001b[1;32m----> 3\u001b[0m number \u001b[38;5;241m=\u001b[39m \u001b[38;5;28;43mfloat\u001b[39;49m\u001b[43m(\u001b[49m\u001b[43msys\u001b[49m\u001b[38;5;241;43m.\u001b[39;49m\u001b[43margv\u001b[49m\u001b[43m[\u001b[49m\u001b[38;5;241;43m1\u001b[39;49m\u001b[43m]\u001b[49m\u001b[43m)\u001b[49m\n\u001b[0;32m      4\u001b[0m tobase \u001b[38;5;241m=\u001b[39m \u001b[38;5;28mfloat\u001b[39m(sys\u001b[38;5;241m.\u001b[39margv[\u001b[38;5;241m2\u001b[39m])\n\u001b[0;32m      6\u001b[0m \u001b[38;5;66;03m# match tobase:\u001b[39;00m\n\u001b[0;32m      7\u001b[0m \u001b[38;5;66;03m#     case 2:\u001b[39;00m\n\u001b[0;32m      8\u001b[0m \u001b[38;5;66;03m#         result = f'{number:b}'\u001b[39;00m\n\u001b[1;32m   (...)\u001b[0m\n\u001b[0;32m     13\u001b[0m \u001b[38;5;66;03m#     case _:\u001b[39;00m\n\u001b[0;32m     14\u001b[0m \u001b[38;5;66;03m#         result = None\u001b[39;00m\n",
      "\u001b[1;31mValueError\u001b[0m: could not convert string to float: '--f=c:\\\\Users\\\\Chio\\\\AppData\\\\Roaming\\\\jupyter\\\\runtime\\\\kernel-v2-5456dWS82FPBHcRh.json'"
     ]
    }
   ],
   "source": [
    "import sys\n",
    "\n",
    "number = int(sys.argv[1])\n",
    "tobase = int(sys.argv[2])\n",
    "\n",
    "# match tobase: ## match no funciona en python 3.9\n",
    "#     case 2:\n",
    "#         result = f'{number:b}'\n",
    "#     case 8:\n",
    "#         result = f'{number:o}'\n",
    "#     case 16:\n",
    "#         result = f'{number:x}'\n",
    "#     case _:\n",
    "#         result = None\n",
    "\n",
    "if tobase == 2:\n",
    "    result = f'{number:b}'\n",
    "elif tobase == 8:\n",
    "    result = f'{number:o}'\n",
    "elif tobase == 16:\n",
    "    result = f'{number:x}'\n",
    "else:\n",
    "    result = None\n",
    "\n",
    "if result is None:\n",
    "    print(f'Base {tobase} not implemented!')\n",
    "else:\n",
    "    print(result)"
   ]
  },
  {
   "cell_type": "markdown",
   "metadata": {},
   "source": [
    "## Funciones matemáticas"
   ]
  },
  {
   "cell_type": "code",
   "execution_count": 90,
   "metadata": {},
   "outputs": [
    {
     "data": {
      "text/plain": [
       "28"
      ]
     },
     "execution_count": 90,
     "metadata": {},
     "output_type": "execute_result"
    }
   ],
   "source": [
    "data = [5, 3, 2, 8, 9, 1]\n",
    "sum(data)"
   ]
  },
  {
   "cell_type": "code",
   "execution_count": 91,
   "metadata": {},
   "outputs": [
    {
     "data": {
      "text/plain": [
       "1"
      ]
     },
     "execution_count": 91,
     "metadata": {},
     "output_type": "execute_result"
    }
   ],
   "source": [
    "data = [5, 3, 2, 8, 9, 1]\n",
    "min(data)"
   ]
  },
  {
   "cell_type": "code",
   "execution_count": 92,
   "metadata": {},
   "outputs": [
    {
     "data": {
      "text/plain": [
       "9"
      ]
     },
     "execution_count": 92,
     "metadata": {},
     "output_type": "execute_result"
    }
   ],
   "source": [
    "data = [5, 3, 2, 8, 9, 1]\n",
    "max(data)"
   ]
  },
  {
   "cell_type": "code",
   "execution_count": 93,
   "metadata": {},
   "outputs": [
    {
     "name": "stdout",
     "output_type": "stream",
     "text": [
      "40.17\n"
     ]
    }
   ],
   "source": [
    "nums = [32, 56, 21, 99, 12, 21]\n",
    "avg_num = round((sum(nums)/len(nums)), 2)\n",
    "print(avg_num)"
   ]
  },
  {
   "cell_type": "code",
   "execution_count": 94,
   "metadata": {},
   "outputs": [],
   "source": [
    "# Listas de listas\n",
    "goalkeeper = 'Cata'\n",
    "defenders = ['Olga', 'Laia', 'Irene', 'Ona']\n",
    "midfielders = ['Jenni', 'Teresa', 'Aitana']\n",
    "forwards = ['Mariona', 'Salma', 'Alba']"
   ]
  },
  {
   "cell_type": "code",
   "execution_count": 95,
   "metadata": {},
   "outputs": [
    {
     "data": {
      "text/plain": [
       "['Cata',\n",
       " ['Olga', 'Laia', 'Irene', 'Ona'],\n",
       " ['Jenni', 'Teresa', 'Aitana'],\n",
       " ['Mariona', 'Salma', 'Alba']]"
      ]
     },
     "execution_count": 95,
     "metadata": {},
     "output_type": "execute_result"
    }
   ],
   "source": [
    "team = [goalkeeper, defenders, midfielders, forwards]\n",
    "\n",
    "team"
   ]
  },
  {
   "cell_type": "code",
   "execution_count": 96,
   "metadata": {},
   "outputs": [
    {
     "data": {
      "text/plain": [
       "'Cata'"
      ]
     },
     "execution_count": 96,
     "metadata": {},
     "output_type": "execute_result"
    }
   ],
   "source": [
    "team[0]  # portera"
   ]
  },
  {
   "cell_type": "code",
   "execution_count": 97,
   "metadata": {},
   "outputs": [
    {
     "data": {
      "text/plain": [
       "'Olga'"
      ]
     },
     "execution_count": 97,
     "metadata": {},
     "output_type": "execute_result"
    }
   ],
   "source": [
    "team[1][0]  # lateral izquierdo"
   ]
  },
  {
   "cell_type": "code",
   "execution_count": 98,
   "metadata": {},
   "outputs": [
    {
     "data": {
      "text/plain": [
       "['Jenni', 'Teresa', 'Aitana']"
      ]
     },
     "execution_count": 98,
     "metadata": {},
     "output_type": "execute_result"
    }
   ],
   "source": [
    "team[2]  # centrocampistas"
   ]
  },
  {
   "cell_type": "code",
   "execution_count": 99,
   "metadata": {},
   "outputs": [
    {
     "data": {
      "text/plain": [
       "'Salma'"
      ]
     },
     "execution_count": 99,
     "metadata": {},
     "output_type": "execute_result"
    }
   ],
   "source": [
    "team[3][1]"
   ]
  },
  {
   "cell_type": "code",
   "execution_count": 100,
   "metadata": {},
   "outputs": [
    {
     "name": "stdout",
     "output_type": "stream",
     "text": [
      "Cata\n",
      "Olga Laia Irene Ona \n",
      "Jenni Teresa Aitana \n",
      "Mariona Salma Alba \n"
     ]
    }
   ],
   "source": [
    "for playline in team:\n",
    "    if isinstance(playline, list):\n",
    "        for player in playline:\n",
    "            print(player, end=' ')\n",
    "        print()\n",
    "    else:\n",
    "        print(playline)"
   ]
  }
 ],
 "metadata": {
  "kernelspec": {
   "display_name": "Python 3",
   "language": "python",
   "name": "python3"
  },
  "language_info": {
   "codemirror_mode": {
    "name": "ipython",
    "version": 3
   },
   "file_extension": ".py",
   "mimetype": "text/x-python",
   "name": "python",
   "nbconvert_exporter": "python",
   "pygments_lexer": "ipython3",
   "version": "3.9.12"
  }
 },
 "nbformat": 4,
 "nbformat_minor": 2
}
